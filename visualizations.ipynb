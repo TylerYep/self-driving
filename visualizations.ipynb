{
 "cells": [
  {
   "cell_type": "code",
   "execution_count": 1,
   "metadata": {},
   "outputs": [
    {
     "name": "stderr",
     "output_type": "stream",
     "text": [
      "/anaconda3/envs/carnd-term1/lib/python3.5/site-packages/sklearn/utils/fixes.py:313: FutureWarning: numpy not_equal will not check object identity in the future. The comparison did not return the same result as suggested by the identity (`is`)) and will change.\n",
      "  _nan_object_mask = _nan_object_array != _nan_object_array\n"
     ]
    }
   ],
   "source": [
    "import torch\n",
    "import torch.utils.data as data\n",
    "from models import Model\n",
    "import matplotlib.pyplot as plt\n",
    "import const\n",
    "from dataset import DrivingDataset\n",
    "import cv2\n",
    "import numpy as np\n",
    "import loss_utils\n",
    "from scipy.misc import imresize"
   ]
  },
  {
   "cell_type": "code",
   "execution_count": 5,
   "metadata": {},
   "outputs": [
    {
     "name": "stderr",
     "output_type": "stream",
     "text": [
      "Using TensorFlow backend.\n"
     ]
    },
    {
     "name": "stdout",
     "output_type": "stream",
     "text": [
      "Loading weights: save/weights_100.pth\n",
      "Predicted 0.5148845314979553\n"
     ]
    }
   ],
   "source": [
    "import numpy as np\n",
    "\n",
    "from matplotlib import pyplot as plt\n",
    "%matplotlib inline\n",
    "\n",
    "from vis.utils import utils\n",
    "\n",
    "# load model weights\n",
    "model = Model(const.CURR_MODEL)\n",
    "print('Loading weights: {}'.format(const.MODEL_WEIGHTS))\n",
    "device = torch.device('cuda' if torch.cuda.is_available() else 'cpu')\n",
    "model.load_state_dict(torch.load(const.MODEL_WEIGHTS, map_location=device))\n",
    "model.eval()\n",
    "\n",
    "# obtain inputs and labels\n",
    "BATCH_SIZE = 1\n",
    "NUM_SHUFFLES = 3\n",
    "train_dataset = DrivingDataset(const.TRAIN_DRIVING_LOG_PATH)\n",
    "train_dataloader = data.DataLoader(train_dataset, batch_size=BATCH_SIZE, shuffle=True, num_workers=8)\n",
    "inputs, measurements, labels, high_level_controls = next(iter(train_dataloader))\n",
    "for i in range(NUM_SHUFFLES):\n",
    "    inputs, measurements, labels, high_level_controls = next(iter(train_dataloader))\n",
    "\n",
    "\n",
    "# Display original pictures\n",
    "#plt.figure(1), plt.imshow(cv2.cvtColor(np.asarray(inputs[0]).astype('uint8'), code=cv2.COLOR_BGR2RGB))\n",
    "\n",
    "# Make the input require a gradient\n",
    "inputs.requires_grad_()\n",
    "\n",
    "inputs = inputs.to(device)\n",
    "labels = labels.to(device)\n",
    "measurements = measurements.to(device)\n",
    "\n",
    "outputs = model(inputs, measurements)\n",
    "pred = outputs[high_level_controls][0][0] # steer prediction\n",
    "print('Predicted {}'.format(pred))"
   ]
  },
  {
   "cell_type": "code",
   "execution_count": 8,
   "metadata": {},
   "outputs": [
    {
     "ename": "NameError",
     "evalue": "name 'bgr_img' is not defined",
     "output_type": "error",
     "traceback": [
      "\u001b[0;31m---------------------------------------------------------------------------\u001b[0m",
      "\u001b[0;31mNameError\u001b[0m                                 Traceback (most recent call last)",
      "\u001b[0;32m<ipython-input-8-56117829ec05>\u001b[0m in \u001b[0;36m<module>\u001b[0;34m\u001b[0m\n\u001b[1;32m      5\u001b[0m \u001b[0;32mfor\u001b[0m \u001b[0mi\u001b[0m\u001b[0;34m,\u001b[0m \u001b[0mmodifier\u001b[0m \u001b[0;32min\u001b[0m \u001b[0menumerate\u001b[0m\u001b[0;34m(\u001b[0m\u001b[0mmodifiers\u001b[0m\u001b[0;34m)\u001b[0m\u001b[0;34m:\u001b[0m\u001b[0;34m\u001b[0m\u001b[0m\n\u001b[1;32m      6\u001b[0m     heatmap = visualize_saliency(model, layer_idx=-1, filter_indices=0, \n\u001b[0;32m----> 7\u001b[0;31m                                  seed_input=bgr_img, grad_modifier=modifier)\n\u001b[0m\u001b[1;32m      8\u001b[0m     \u001b[0mplt\u001b[0m\u001b[0;34m.\u001b[0m\u001b[0mfigure\u001b[0m\u001b[0;34m(\u001b[0m\u001b[0;34m)\u001b[0m\u001b[0;34m\u001b[0m\u001b[0m\n\u001b[1;32m      9\u001b[0m     \u001b[0mplt\u001b[0m\u001b[0;34m.\u001b[0m\u001b[0mtitle\u001b[0m\u001b[0;34m(\u001b[0m\u001b[0mtitles\u001b[0m\u001b[0;34m[\u001b[0m\u001b[0mi\u001b[0m\u001b[0;34m]\u001b[0m\u001b[0;34m)\u001b[0m\u001b[0;34m\u001b[0m\u001b[0m\n",
      "\u001b[0;31mNameError\u001b[0m: name 'bgr_img' is not defined"
     ]
    }
   ],
   "source": [
    "from vis.visualization import visualize_saliency, overlay\n",
    "\n",
    "titles = ['right steering', 'left steering', 'maintain steering']\n",
    "modifiers = [None, 'negate', 'small_values']\n",
    "for i, modifier in enumerate(modifiers):\n",
    "    heatmap = visualize_saliency(model, layer_idx=-1, filter_indices=0, \n",
    "                                 seed_input=bgr_img, grad_modifier=modifier)\n",
    "    plt.figure()\n",
    "    plt.title(titles[i])\n",
    "    # Overlay is used to alpha blend heatmap onto img.\n",
    "    plt.imshow(overlay(img, heatmap, alpha=0.7))"
   ]
  },
  {
   "cell_type": "code",
   "execution_count": null,
   "metadata": {},
   "outputs": [],
   "source": []
  }
 ],
 "metadata": {
  "kernelspec": {
   "display_name": "Python 3",
   "language": "python",
   "name": "python3"
  },
  "language_info": {
   "codemirror_mode": {
    "name": "ipython",
    "version": 3
   },
   "file_extension": ".py",
   "mimetype": "text/x-python",
   "name": "python",
   "nbconvert_exporter": "python",
   "pygments_lexer": "ipython3",
   "version": "3.5.2"
  },
  "widgets": {
   "state": {},
   "version": "1.1.2"
  }
 },
 "nbformat": 4,
 "nbformat_minor": 2
}
